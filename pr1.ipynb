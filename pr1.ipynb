{
 "cells": [
  {
   "cell_type": "code",
   "execution_count": 1,
   "id": "42cf5332-c062-44ff-a105-0a755099626d",
   "metadata": {},
   "outputs": [
    {
     "name": "stdout",
     "output_type": "stream",
     "text": [
      "{'mean': [[3.0, 4.0, 5.0], [1.0, 4.0, 7.0], 4.0], 'variance': [[6.0, 6.0, 6.0], [0.6666666666666666, 0.6666666666666666, 0.6666666666666666], 6.666666666666667], 'standard deviation': [[2.449489742783178, 2.449489742783178, 2.449489742783178], [0.816496580927726, 0.816496580927726, 0.816496580927726], 2.581988897471611], 'max': [[6, 7, 8], [2, 5, 8], 8], 'min': [[0, 1, 2], [0, 3, 6], 0], 'sum': [[9, 12, 15], [3, 12, 21], 36]}\n"
     ]
    }
   ],
   "source": [
    "import numpy as np\n",
    "\n",
    "def calculate(numbers):\n",
    "    # Check if the list contains exactly 9 numbers\n",
    "    if len(numbers) != 9:\n",
    "        raise ValueError(\"List must contain nine numbers.\")\n",
    "    \n",
    "    # Convert the list into a 3x3 NumPy array\n",
    "    matrix = np.array(numbers).reshape(3, 3)\n",
    "\n",
    "    # Initialize the result dictionary\n",
    "    calculations = {\n",
    "        'mean': [\n",
    "            matrix.mean(axis=0).tolist(),   # mean for columns\n",
    "            matrix.mean(axis=1).tolist(),   # mean for rows\n",
    "            matrix.mean().tolist()           # mean for flattened\n",
    "        ],\n",
    "        'variance': [\n",
    "            matrix.var(axis=0).tolist(),     # variance for columns\n",
    "            matrix.var(axis=1).tolist(),     # variance for rows\n",
    "            matrix.var().tolist()             # variance for flattened\n",
    "        ],\n",
    "        'standard deviation': [\n",
    "            matrix.std(axis=0).tolist(),      # std dev for columns\n",
    "            matrix.std(axis=1).tolist(),      # std dev for rows\n",
    "            matrix.std().tolist()              # std dev for flattened\n",
    "        ],\n",
    "        'max': [\n",
    "            matrix.max(axis=0).tolist(),      # max for columns\n",
    "            matrix.max(axis=1).tolist(),      # max for rows\n",
    "            matrix.max().tolist()              # max for flattened\n",
    "        ],\n",
    "        'min': [\n",
    "            matrix.min(axis=0).tolist(),      # min for columns\n",
    "            matrix.min(axis=1).tolist(),      # min for rows\n",
    "            matrix.min().tolist()              # min for flattened\n",
    "        ],\n",
    "        'sum': [\n",
    "            matrix.sum(axis=0).tolist(),      # sum for columns\n",
    "            matrix.sum(axis=1).tolist(),      # sum for rows\n",
    "            matrix.sum().tolist()              # sum for flattened\n",
    "        ]\n",
    "    }\n",
    "    \n",
    "    return calculations\n",
    "\n",
    "\n",
    "if __name__ == \"__main__\":\n",
    "    result = calculate([0, 1, 2, 3, 4, 5, 6, 7, 8])\n",
    "    print(result)\n"
   ]
  },
  {
   "cell_type": "code",
   "execution_count": null,
   "id": "1faf0ee3-0e91-421c-9ab6-e16894f58aff",
   "metadata": {},
   "outputs": [],
   "source": []
  }
 ],
 "metadata": {
  "kernelspec": {
   "display_name": "Python 3 (ipykernel)",
   "language": "python",
   "name": "python3"
  },
  "language_info": {
   "codemirror_mode": {
    "name": "ipython",
    "version": 3
   },
   "file_extension": ".py",
   "mimetype": "text/x-python",
   "name": "python",
   "nbconvert_exporter": "python",
   "pygments_lexer": "ipython3",
   "version": "3.11.7"
  }
 },
 "nbformat": 4,
 "nbformat_minor": 5
}
